{
 "cells": [
  {
   "cell_type": "code",
   "execution_count": 1,
   "metadata": {},
   "outputs": [
    {
     "name": "stdout",
     "output_type": "stream",
     "text": [
      "4 data collected\n",
      "5 data collected\n",
      "2 data collected\n",
      "[\n",
      "    {\n",
      "        \"date\": \"27-06-20\",\n",
      "        \"time\": \"21:00\",\n",
      "        \"enddate\": \"04-07-20\",\n",
      "        \"endtime\": \"21:00\",\n",
      "        \"name\": \"ICPC Challenge 2020: Marathon\",\n",
      "        \"id\": 1378,\n",
      "        \"url\": \"https://codeforces.com/contests\",\n",
      "        \"platform\": \"CODEFORCES\",\n",
      "        \"timestamp\": 1593271800.0,\n",
      "        \"endtimestamp\": 1593876600.0\n",
      "    },\n",
      "    {\n",
      "        \"date\": \"04-07-20\",\n",
      "        \"time\": \"20:05\",\n",
      "        \"enddate\": \"04-07-20\",\n",
      "        \"endtime\": \"22:35\",\n",
      "        \"name\": \"Codeforces Global Round 9\",\n",
      "        \"id\": 1375,\n",
      "        \"url\": \"https://codeforces.com/contests\",\n",
      "        \"platform\": \"CODEFORCES\",\n",
      "        \"timestamp\": 1593873300.0,\n",
      "        \"endtimestamp\": 1593882300.0\n",
      "    },\n",
      "    {\n",
      "        \"date\": \"05-07-20\",\n",
      "        \"time\": \"11:00\",\n",
      "        \"enddate\": \"05-07-20\",\n",
      "        \"endtime\": \"13:00\",\n",
      "        \"url\": \"https://www.codechef.com/SAGE2020\",\n",
      "        \"name\": \"Coding_Contest@SAGE\",\n",
      "        \"platform\": \"CODECHEF\",\n",
      "        \"timestamp\": 1593927000.0,\n",
      "        \"endtimestamp\": 1593934200.0\n",
      "    },\n",
      "    {\n",
      "        \"date\": \"05-07-20\",\n",
      "        \"time\": \"17:30\",\n",
      "        \"url\": \"https://www.atcoder.jp/contests/abc173\",\n",
      "        \"name\": \"\\u25c9 AtCoder Beginner Contest 173\",\n",
      "        \"platform\": \"ATCODER\",\n",
      "        \"timestamp\": 1593950400.0\n",
      "    },\n",
      "    {\n",
      "        \"date\": \"11-07-20\",\n",
      "        \"time\": \"17:30\",\n",
      "        \"url\": \"https://www.atcoder.jp/contests/aising2020\",\n",
      "        \"name\": \"\\u25c9 AIsing Programming Contest 2020\",\n",
      "        \"platform\": \"ATCODER\",\n",
      "        \"timestamp\": 1594468800.0\n",
      "    },\n",
      "    {\n",
      "        \"date\": \"11-07-20\",\n",
      "        \"time\": \"20:35\",\n",
      "        \"enddate\": \"11-07-20\",\n",
      "        \"endtime\": \"22:35\",\n",
      "        \"name\": \"Codeforces Round #655 (Div. 2)\",\n",
      "        \"id\": 1372,\n",
      "        \"url\": \"https://codeforces.com/contests\",\n",
      "        \"platform\": \"CODEFORCES\",\n",
      "        \"timestamp\": 1594479900.0,\n",
      "        \"endtimestamp\": 1594487100.0\n",
      "    },\n",
      "    {\n",
      "        \"date\": \"12-07-20\",\n",
      "        \"time\": \"20:05\",\n",
      "        \"enddate\": \"12-07-20\",\n",
      "        \"endtime\": \"22:05\",\n",
      "        \"name\": \"Educational Codeforces Round 91 (Rated for Div. 2)\",\n",
      "        \"id\": 1380,\n",
      "        \"url\": \"https://codeforces.com/contests\",\n",
      "        \"platform\": \"CODEFORCES\",\n",
      "        \"timestamp\": 1594564500.0,\n",
      "        \"endtimestamp\": 1594571700.0\n",
      "    },\n",
      "    {\n",
      "        \"date\": \"19-07-20\",\n",
      "        \"time\": \"14:30\",\n",
      "        \"enddate\": \"19-07-20\",\n",
      "        \"endtime\": \"16:30\",\n",
      "        \"name\": \"Codeforces Round #656 (Div. 2)\",\n",
      "        \"id\": 1379,\n",
      "        \"url\": \"https://codeforces.com/contests\",\n",
      "        \"platform\": \"CODEFORCES\",\n",
      "        \"timestamp\": 1595149200.0,\n",
      "        \"endtimestamp\": 1595156400.0\n",
      "    },\n",
      "    {\n",
      "        \"date\": \"19-07-20\",\n",
      "        \"time\": \"21:30\",\n",
      "        \"enddate\": \"20-07-20\",\n",
      "        \"endtime\": \"00:00\",\n",
      "        \"url\": \"https://www.codechef.com/COOK120\",\n",
      "        \"name\": \"July Cook-Off 2020\",\n",
      "        \"platform\": \"CODECHEF\",\n",
      "        \"timestamp\": 1595174400.0,\n",
      "        \"endtimestamp\": 1595183400.0\n",
      "    },\n",
      "    {\n",
      "        \"date\": \"20-07-20\",\n",
      "        \"time\": \"20:00\",\n",
      "        \"enddate\": \"20-07-20\",\n",
      "        \"endtime\": \"22:00\",\n",
      "        \"url\": \"https://www.codechef.com/COJK2020\",\n",
      "        \"name\": \"CodeJunk\",\n",
      "        \"platform\": \"CODECHEF\",\n",
      "        \"timestamp\": 1595255400.0,\n",
      "        \"endtimestamp\": 1595262600.0\n",
      "    },\n",
      "    {\n",
      "        \"date\": \"25-07-20\",\n",
      "        \"time\": \"19:30\",\n",
      "        \"enddate\": \"25-07-20\",\n",
      "        \"endtime\": \"22:30\",\n",
      "        \"url\": \"https://www.codechef.com/LTIME86\",\n",
      "        \"name\": \"July Lunchtime 2020\",\n",
      "        \"platform\": \"CODECHEF\",\n",
      "        \"timestamp\": 1595685600.0,\n",
      "        \"endtimestamp\": 1595696400.0\n",
      "    }\n",
      "]\n"
     ]
    }
   ],
   "source": [
    "import datetime \n",
    "import pytz\n",
    "from pytz import timezone\n",
    "from dateutil import tz\n",
    "import contest"
   ]
  },
  {
   "cell_type": "code",
   "execution_count": 82,
   "metadata": {},
   "outputs": [
    {
     "data": {
      "text/plain": [
       "datetime.datetime(2020, 7, 5, 21, 0, tzinfo=datetime.timezone(datetime.timedelta(seconds=32400)))"
      ]
     },
     "execution_count": 82,
     "metadata": {},
     "output_type": "execute_result"
    }
   ],
   "source": [
    "link =\"http://www.timeanddate.com/worldclock/fixedtime.html?iso=20200705T2100&p1=248\"\n",
    "\n",
    "\n",
    "# print(a[0])\n",
    "a = a[0]\n",
    "a = a+'+0900'\n",
    "tm = datetime.datetime.strptime(a,'%Y%m%dT%H%M%z')\n",
    "tm"
   ]
  },
  {
   "cell_type": "code",
   "execution_count": 66,
   "metadata": {},
   "outputs": [
    {
     "data": {
      "text/plain": [
       "'06-07-20JST'"
      ]
     },
     "execution_count": 66,
     "metadata": {},
     "output_type": "execute_result"
    }
   ],
   "source": [
    "pst = pytz.timezone('Asia/tokyo')\n",
    "tm = tm.astimezone(pst)\n",
    "date = tm.strftime('%d-%m-%y%Z')\n",
    "date"
   ]
  },
  {
   "cell_type": "code",
   "execution_count": 36,
   "metadata": {},
   "outputs": [],
   "source": [
    "\n",
    "dt = pytz.UTC.localize(dtu)"
   ]
  },
  {
   "cell_type": "code",
   "execution_count": 37,
   "metadata": {},
   "outputs": [
    {
     "data": {
      "text/plain": [
       "datetime.datetime(2020, 7, 11, 20, 35)"
      ]
     },
     "execution_count": 37,
     "metadata": {},
     "output_type": "execute_result"
    }
   ],
   "source": [
    "datetime.datetime.fromtimestamp(timestamp)"
   ]
  },
  {
   "cell_type": "code",
   "execution_count": 38,
   "metadata": {},
   "outputs": [],
   "source": []
  },
  {
   "cell_type": "code",
   "execution_count": 103,
   "metadata": {},
   "outputs": [
    {
     "data": {
      "text/plain": [
       "datetime.datetime(2020, 7, 11, 20, 35, tzinfo=<DstTzInfo 'Asia/Kolkata' IST+5:30:00 STD>)"
      ]
     },
     "execution_count": 103,
     "metadata": {},
     "output_type": "execute_result"
    }
   ],
   "source": [
    "ist = pytz.timezone('Asia/Kolkata')\n",
    "dt.astimezone(ist)"
   ]
  },
  {
   "cell_type": "code",
   "execution_count": 89,
   "metadata": {},
   "outputs": [],
   "source": [
    "import bs4 as bs"
   ]
  },
  {
   "cell_type": "code",
   "execution_count": null,
   "metadata": {},
   "outputs": [],
   "source": [
    "url = 'https://atcoder.jp/'\n",
    "r = contest.make_request(url)\n",
    "\n",
    "source2 = r.text\n",
    "soup = bs.BeautifulSoup(source2,'lxml')"
   ]
  },
  {
   "cell_type": "code",
   "execution_count": 106,
   "metadata": {},
   "outputs": [
    {
     "name": "stdout",
     "output_type": "stream",
     "text": [
      "2020-07-05 21:00:00+09:00\n",
      "2020-07-05 17:30:00+05:30\n",
      "\n",
      "2020-07-11 21:00:00+09:00\n",
      "2020-07-11 17:30:00+05:30\n",
      "\n"
     ]
    }
   ],
   "source": [
    "table = soup.table\n",
    "table = soup.findAll('tbody')\n",
    "table = table[1]\n",
    "table_rows = table.findAll('tr')\n",
    "for tr in table_rows:\n",
    "    link = tr.findAll('a')[0]['href']\n",
    "    a =link.split(\"iso=\")[1]\n",
    "    a = a.split(\"&\")[0] + '+0900'\n",
    "    tm = datetime.datetime.strptime(a,'%Y%m%dT%H%M%z')\n",
    "    ist = pytz.timezone('Asia/Kolkata')\n",
    "    tm =tm.astimezone(ist)\n",
    "    print(tm)\n",
    "    print()"
   ]
  },
  {
   "cell_type": "code",
   "execution_count": 100,
   "metadata": {},
   "outputs": [
    {
     "data": {
      "text/plain": [
       "'http://www.timeanddate.com/worldclock/fixedtime.html?iso=20200705T2100&p1=248'"
      ]
     },
     "execution_count": 100,
     "metadata": {},
     "output_type": "execute_result"
    }
   ],
   "source": [
    "table_rows[0].findAll('a')[0]['href']"
   ]
  },
  {
   "cell_type": "code",
   "execution_count": 26,
   "metadata": {},
   "outputs": [
    {
     "name": "stdout",
     "output_type": "stream",
     "text": [
      "2020-07-12 14:35:00+00:00\n",
      "2020-07-12 20:05:00+05:30\n"
     ]
    }
   ],
   "source": [
    "date = datetime.datetime.utcfromtimestamp(1594564500)\n",
    "date = pytz.UTC.localize(date)\n",
    "print(date)\n",
    "ist = pytz.timezone('Asia/Kolkata')\n",
    "date = date.astimezone(ist)\n",
    "print(date)\n",
    "\n",
    "enddt= date + datetime.timedelta(seconds=7200)\n",
    "        "
   ]
  },
  {
   "cell_type": "code",
   "execution_count": 23,
   "metadata": {},
   "outputs": [
    {
     "name": "stdout",
     "output_type": "stream",
     "text": [
      "2020-07-12 20:05:00+05:30\n"
     ]
    }
   ],
   "source": [
    "date = datetime.datetime.utcfromtimestamp(1594564500)\n",
    "date = pytz.UTC.localize(date)\n",
    "ist = pytz.timezone('Asia/Kolkata')\n",
    "date = date.astimezone(ist)\n",
    "print(date)\n",
    "\n",
    "enddt= date + datetime.timedelta(seconds=7200)\n",
    "        "
   ]
  },
  {
   "cell_type": "code",
   "execution_count": 8,
   "metadata": {},
   "outputs": [
    {
     "data": {
      "text/plain": [
       "datetime.datetime(2020, 7, 12, 14, 35)"
      ]
     },
     "execution_count": 8,
     "metadata": {},
     "output_type": "execute_result"
    }
   ],
   "source": [
    "dt"
   ]
  },
  {
   "cell_type": "code",
   "execution_count": 11,
   "metadata": {},
   "outputs": [
    {
     "data": {
      "text/plain": [
       "'2020-07-12T20:05:00+05:30'"
      ]
     },
     "execution_count": 11,
     "metadata": {},
     "output_type": "execute_result"
    }
   ],
   "source": [
    "dt.isoformat()"
   ]
  },
  {
   "cell_type": "code",
   "execution_count": 5,
   "metadata": {},
   "outputs": [],
   "source": [
    "from pastebin import PastebinAPI"
   ]
  },
  {
   "cell_type": "code",
   "execution_count": 12,
   "metadata": {},
   "outputs": [
    {
     "ename": "TypeError",
     "evalue": "paste() missing 1 required positional argument: 'self'",
     "output_type": "error",
     "traceback": [
      "\u001b[0;31m---------------------------------------------------------------------------\u001b[0m",
      "\u001b[0;31mTypeError\u001b[0m                                 Traceback (most recent call last)",
      "\u001b[0;32m<ipython-input-12-baa815c6804d>\u001b[0m in \u001b[0;36m<module>\u001b[0;34m\u001b[0m\n\u001b[1;32m      1\u001b[0m \u001b[0mmessage\u001b[0m \u001b[0;34m=\u001b[0m \u001b[0;34m'{ \"data\": \"this is a message\" }'\u001b[0m\u001b[0;34m\u001b[0m\u001b[0;34m\u001b[0m\u001b[0m\n\u001b[1;32m      2\u001b[0m PastebinAPI.paste(api_dev_key = 'dc55e97e3694bb1d8aff69576bf6c9cb', api_paste_code=message , api_user_key = None, paste_name = \"data.json\",\n\u001b[0;32m----> 3\u001b[0;31m                    paste_format = 'javascript', paste_private = 'private',paste_expire_date = 'N')\n\u001b[0m",
      "\u001b[0;31mTypeError\u001b[0m: paste() missing 1 required positional argument: 'self'"
     ]
    }
   ],
   "source": [
    "message = '{ \"data\": \"this is a message\" }'\n",
    "PastebinAPI.paste(api_dev_key = 'dc55e97e3694bb1d8aff69576bf6c9cb', api_paste_code=message , api_user_key = None, paste_name = \"data.json\",\n",
    "                   paste_format = 'javascript', paste_private = 'private',paste_expire_date = 'N')"
   ]
  },
  {
   "cell_type": "code",
   "execution_count": 18,
   "metadata": {},
   "outputs": [
    {
     "name": "stdout",
     "output_type": "stream",
     "text": [
      "Paste send:  OK/200\n",
      "Paste URL:  https://pastebin.com/WYMcyXv6\n"
     ]
    }
   ],
   "source": [
    "\n",
    "\n",
    "import requests # see https://2.python-requests.org/en/master/\n",
    " \n",
    "key = 'dc55e97e3694bb1d8aff69576bf6c9cb'\n",
    "text = \"a text\"\n",
    "t_title = \"a_paste_title\"\n",
    " \n",
    "login_data = {\n",
    "    'api_dev_key': key,\n",
    "    'api_user_name': 'cocopaste',\n",
    "    'api_user_password': 'TqNw4Yt7gVL3Jxr'\n",
    "    }\n",
    "data = {\n",
    "    'api_option': 'paste',\n",
    "    'api_dev_key':key,\n",
    "    'api_paste_code':text,\n",
    "   'api_paste_name':t_title,\n",
    "   'api_paste_expire_date': 'N',\n",
    "   'api_user_key': None,\n",
    "   'api_paste_format': 'javascript',\n",
    "   'api_paste_private':2\n",
    "   }\n",
    " \n",
    "data['api_user_key'] = 'e877427f23e7cf34af5ea9ee754b764c'\n",
    " \n",
    "r = requests.post(\"https://pastebin.com/api/api_post.php\", data=data)\n",
    "print(\"Paste send: \", r.status_code if r.status_code != 200 else \"OK/200\")\n",
    "print(\"Paste URL: \", r.text)"
   ]
  },
  {
   "cell_type": "code",
   "execution_count": 27,
   "metadata": {},
   "outputs": [],
   "source": [
    "\n",
    "import bs4 as bs\n",
    "import requests\n",
    "import datetime \n",
    "import pytz\n",
    "from pytz import timezone\n",
    "from dateutil import tz\n",
    "import json\n",
    "import logging\n",
    "import json\n",
    "logger=logging.getLogger() \n",
    "\n",
    "logger.setLevel(logging.DEBUG) \n",
    "\n",
    "def make_request(url):\n",
    "    headers = {\n",
    "        \"User-Agent\": \"Mozilla/5.0 (X11; Ubuntu; Linux x86_64; rv:70.0) Gecko/20100101 Firefox/70.0\"\n",
    "    }\n",
    "    return requests.get(url,headers=headers)\n"
   ]
  },
  {
   "cell_type": "code",
   "execution_count": 50,
   "metadata": {},
   "outputs": [],
   "source": [
    "# def hackerearth():\n",
    "\n",
    "url = 'https://www.hackerearth.com/challenges'\n",
    "r = make_request(url)\n",
    "source = r.text\n",
    "soup = bs.BeautifulSoup(source,'html.parser')\n",
    "    "
   ]
  },
  {
   "cell_type": "code",
   "execution_count": 94,
   "metadata": {},
   "outputs": [
    {
     "name": "stdout",
     "output_type": "stream",
     "text": [
      "Jul 20, 04:00 PM IST\n",
      "{'date': '20-07-20', 'time': '16:00', 'name': 'Esko Software Engineer Hiring Challenge', 'platform': 'HACKERRANK', 'type': 'HIRING', 'timestamp': 1595241000.0}\n"
     ]
    }
   ],
   "source": [
    "upcoming = soup.find('div',{'class':'upcoming challenge-list'})\n",
    "events = upcoming.findAll('div',{'class':'challenge-card-modern'})\n",
    "\n",
    "# print(events)\n",
    "\n",
    "for event in events:\n",
    "    raw_date = event.find('div',{'class':'date'}).text.strip()\n",
    "    name = event.find('span',{'class':'challenge-list-title'}).text.strip()\n",
    "    types = event.find('div',{'class':'challenge-type'}).text.strip()\n",
    "     \n",
    "    print(raw_date)\n",
    "    tm = datetime.datetime.strptime(raw_date,'%b %d, %I:%M %p %Z')\n",
    "    tm = tm.replace(year = datetime.datetime.now().year)\n",
    "    ist = pytz.timezone('Asia/Kolkata')\n",
    "    tm = tm.astimezone(ist)\n",
    "    \n",
    "    date = tm.strftime('%d-%m-%y')\n",
    "    time = tm.strftime('%H:%M')\n",
    "    ct = {}\n",
    "    ct['date'] = str(date)\n",
    "    ct['time'] = str(time)\n",
    "#     ct['url'] = 'https://www.atcoder.jp' +  td[1].find('a').get('href')\n",
    "    ct['name'] = name\n",
    "    ct['platform'] = \"HACKERRANK\"\n",
    "    ct['type'] = types\n",
    "    ct['timestamp'] = tm.timestamp()\n",
    "    \n",
    "    return ct\n",
    "    \n",
    "# event_type = upcoming.findAll('div',{'class':'challenge-type light smaller caps weight-600'})\n",
    "# event_name = upcoming.findAll('div',{'class':'challenge-name ellipsis dark'})\n",
    "# event_status = upcoming.findAll('div',{'class':'smaller light caps weight-600'})\n",
    "# event_time = upcoming.findAll('div',{'class':'date less-margin dark'})\n",
    "# print(upcoming)\n",
    "# for i in range(len(event_time)):\n",
    "# #         if event_type[i].text.strip()=='HIRING':\n",
    "#     print(event_name[i].text.strip())\n",
    "#     print(event_time[i].text.strip())"
   ]
  },
  {
   "cell_type": "code",
   "execution_count": 46,
   "metadata": {},
   "outputs": [
    {
     "name": "stdout",
     "output_type": "stream",
     "text": [
      "Esko Software Engineer Hiring Challenge Jul 20, 04:00 PM IST\n"
     ]
    }
   ],
   "source": []
  },
  {
   "cell_type": "code",
   "execution_count": 77,
   "metadata": {},
   "outputs": [
    {
     "data": {
      "text/plain": [
       "datetime.datetime(2020, 7, 20, 16, 0)"
      ]
     },
     "execution_count": 77,
     "metadata": {},
     "output_type": "execute_result"
    }
   ],
   "source": [
    "tm = tm.replace(year=2020)\n",
    "tm"
   ]
  },
  {
   "cell_type": "code",
   "execution_count": 88,
   "metadata": {},
   "outputs": [
    {
     "name": "stdout",
     "output_type": "stream",
     "text": [
      "/challenges/hiring/esko-software-engineer-hiring-challenge-july20/\n"
     ]
    }
   ],
   "source": [
    "print(events[0].find(\"a\")['href'])"
   ]
  },
  {
   "cell_type": "code",
   "execution_count": 91,
   "metadata": {},
   "outputs": [
    {
     "name": "stdout",
     "output_type": "stream",
     "text": [
      "<div class=\"challenge-card-modern\">\n",
      "<a class=\"challenge-card-wrapper challenge-card-link\" href=\"/challenges/hiring/esko-software-engineer-hiring-challenge-july20/\" target=\"_blank\">\n",
      "<div class=\"challenge-list-image challenge-card-wrapper\">\n",
      "<div alt=\"Esko Software Engineer Hiring Challenge\" class=\"event-image\" style=\"background-image: url('https://media-fastly.hackerearth.com/media/hackathon/esko-software-engineer-hiring-challenge-july20/images/4fcd4390b6-Esko_listing.png');\">\n",
      "<div class=\"company-details ellipsis\">\n",
      "<div class=\"inline-block company-image\" style=\"background-image: url('https://media-fastly.hackerearth.com/media/companies/48e60d7-logo-esko.png');\"></div> Esko Graphics India Pvt. Ltd.\n",
      "                </div>\n",
      "<div class=\"registrations-container align-center\">\n",
      "<div class=\"registrations tool-tip align-left\" title=\"Best In Industry\">\n",
      "<i aria-hidden=\"true\" class=\"fa fa-money\"></i> Best In Industry\n",
      "                </div>\n",
      "</div>\n",
      "</div>\n",
      "</div>\n",
      "<div class=\"challenge-content align-center\">\n",
      "<div class=\"challenge-type light smaller caps weight-600\">\n",
      "            \n",
      "            HIRING\n",
      "            \n",
      "            </div>\n",
      "<div class=\"challenge-name ellipsis dark\" title=\"Esko Software Engineer Hiring Challenge\">\n",
      "<span class=\"challenge-list-title challenge-card-wrapper\">Esko Software Engineer Hiring Challenge</span>\n",
      "</div>\n",
      "<div class=\"challenge-list-meta challenge-card-wrapper\">\n",
      "<div class=\"challenge-desc light\">\n",
      "<div class=\"smaller light caps weight-600\">STARTS ON</div>\n",
      "<div class=\"date less-margin dark\">Jul 20, 04:00 PM IST</div>\n",
      "</div>\n",
      "</div>\n",
      "</div>\n",
      "</a>\n",
      "<div class=\"challenge-button\">\n",
      "<a class=\"anon-hiring-register-button button btn-blue-outline btn-large inline-block show-modal login-modal-redirect show-signup-in-modal\" modal-redirect=\"/challenges/hiring/esko-software-engineer-hiring-challenge-july20/register/\" target=\"login-modal\">Register</a>\n",
      "</div>\n",
      "</div>\n"
     ]
    }
   ],
   "source": [
    "print(events[0])"
   ]
  },
  {
   "cell_type": "code",
   "execution_count": 92,
   "metadata": {},
   "outputs": [
    {
     "name": "stdout",
     "output_type": "stream",
     "text": [
      "<div class=\"registrations tool-tip align-left\" title=\"Best In Industry\">\n",
      "<i aria-hidden=\"true\" class=\"fa fa-money\"></i> Best In Industry\n",
      "                </div>\n"
     ]
    }
   ],
   "source": [
    "print(events[0].find(\"\",{'class':'registrations'}))"
   ]
  },
  {
   "cell_type": "code",
   "execution_count": 1,
   "metadata": {},
   "outputs": [],
   "source": [
    "def generate_strings(rule):\n",
    "    if not rule:\n",
    "        yield \"\"\n",
    "    else:\n",
    "        begin, end = rule[0], rule[1:]\n",
    "        if begin == '[':\n",
    "            i = end.find(']')\n",
    "            if i == -1:\n",
    "                raise ValueError(\"Unmatched '['\")\n",
    "            optional, end = end[:i], end[i+1:]\n",
    "            for e in generate_strings(end):\n",
    "                yield e\n",
    "                yield optional + e\n",
    "        elif begin == '(':\n",
    "            i = end.find(')')\n",
    "            if i == -1:\n",
    "                raise ValueError(\"Unmatched '('\")\n",
    "            parts, end = end[:i].split('|'), end[i+1:]\n",
    "\n",
    "            for e in generate_strings(end):\n",
    "                for p in parts:\n",
    "                    yield p + e\n",
    "        elif begin in '])|':\n",
    "            raise ValueError(\"Unexpected \" + begin)\n",
    "        else:\n",
    "            for e in generate_strings(end):\n",
    "                yield begin + e\n",
    "\n",
    "# >>> list(generate_strings(\"A(B|C)D[E]FG\"))\n",
    "# ['ABDFG', 'ACDFG', 'ABDEFG', 'ACDEFG']\n",
    "\n",
    "# share improve this answer\n"
   ]
  },
  {
   "cell_type": "code",
   "execution_count": 4,
   "metadata": {},
   "outputs": [
    {
     "name": "stdout",
     "output_type": "stream",
     "text": [
      "ABDFG\n",
      "ACDFG\n",
      "AKDFG\n",
      "ALDFG\n",
      "ABD(E|R)FG\n",
      "ACD(E|R)FG\n",
      "AKD(E|R)FG\n",
      "ALD(E|R)FG\n"
     ]
    }
   ],
   "source": [
    "for i in generate_strings(\"A(B|C|K|L)D[]FG\"):\n",
    "    print(i)"
   ]
  },
  {
   "cell_type": "code",
   "execution_count": null,
   "metadata": {},
   "outputs": [],
   "source": []
  }
 ],
 "metadata": {
  "kernelspec": {
   "display_name": "Python 3",
   "language": "python",
   "name": "python3"
  },
  "language_info": {
   "codemirror_mode": {
    "name": "ipython",
    "version": 3
   },
   "file_extension": ".py",
   "mimetype": "text/x-python",
   "name": "python",
   "nbconvert_exporter": "python",
   "pygments_lexer": "ipython3",
   "version": "3.7.5"
  }
 },
 "nbformat": 4,
 "nbformat_minor": 4
}
